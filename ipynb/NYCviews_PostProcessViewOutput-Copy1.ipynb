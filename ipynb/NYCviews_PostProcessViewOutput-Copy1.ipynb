{
 "cells": [
  {
   "cell_type": "code",
   "execution_count": 5,
   "metadata": {
    "collapsed": true
   },
   "outputs": [],
   "source": [
    "import sys\n",
    "import os \n",
    "from subprocess import Popen\n",
    "import glob\n",
    "import fileinput\n",
    "import shutil \n",
    "import csv\n",
    "import math\n",
    "\n",
    "from pathlib import Path\n",
    "import numpy\n",
    "import pandas as pd\n",
    "import matplotlib.pyplot as plt"
   ]
  },
  {
   "cell_type": "markdown",
   "metadata": {},
   "source": [
    "# --- INPUTS ---"
   ]
  },
  {
   "cell_type": "code",
   "execution_count": 6,
   "metadata": {
    "collapsed": true
   },
   "outputs": [],
   "source": [
    "## INPUTS ##\n",
    "results_dir = r'D:\\ituran\\NYCviews\\BINS_test'\n",
    "\n",
    "# Outdoor ray % threshold for each point\n",
    "viewThreshold = 0.15\n",
    "\n",
    "# Floor thresholds\n"
   ]
  },
  {
   "cell_type": "markdown",
   "metadata": {},
   "source": [
    "# --- FUNCTIONS ---"
   ]
  },
  {
   "cell_type": "code",
   "execution_count": 11,
   "metadata": {
    "collapsed": true
   },
   "outputs": [],
   "source": [
    "# Get a list of the immediate subdirectories in a folder\n",
    "def get_immediate_subdirs(a_dir):\n",
    "    # a_dir: the path for results directory\n",
    "    \n",
    "    namesList = [name for name in os.listdir(a_dir)\n",
    "            if os.path.isdir(os.path.join(a_dir, name))]\n",
    "    return(namesList)\n",
    "\n",
    "\n",
    "# Reading .dat csv file into df \n",
    "def read_dat_csv(csvfile): \n",
    "    # csvfile: path of of the .dat csv results file \n",
    "    \n",
    "    data = pd.read_csv(csvfile, sep=\"\\t\", header=None, index_col=False)\n",
    "    data = data.drop(data.columns[-1], axis=1)\n",
    "    data.columns = [\"x\", \"y\", \"z\", \"mat\", \"dist\", \"destination\"]\n",
    "    #print(data.head())\n",
    "    #print(data.shape)\n",
    "    \n",
    "    return(data)\n",
    "\n",
    "\n",
    "# Encode the materials in the df using one hot encoding (one column per material)\n",
    "def encode_materials(data): \n",
    "    # **note: create a copy of the original material column for reference \n",
    "    # data: the data df from read_dat_csv\n",
    "\n",
    "    data['orig_mat']=data['mat']\n",
    "    data = pd.get_dummies(data, columns=['mat'])\n",
    "    #print(data.head())\n",
    "    \n",
    "    return(data)\n",
    "\n",
    "\n",
    "# Calculate the total external rays for each point on each floor\n",
    "def rays_per_point(data_encoded, viewThreshold): \n",
    "    # data_encoded: output of encode_materials --> data with material hot coded\n",
    "    \n",
    "    # Filter points by how many rays reach outside / inside (based on material names -- UPDATE IF NEEDED)\n",
    "    viewColumns = data_encoded.filter(regex='view|Outside|sky').columns\n",
    "    interiorMats = data_encoded.filter(regex='Generic').columns\n",
    "    allMaterials = data_encoded.filter(regex='Generic|view|Outside|sky').columns\n",
    "\n",
    "    # Sum up total rays hitting each material type and create new column with all outside ray counts\n",
    "    allRaySums = data_encoded.groupby(['z','x', 'y'])[allMaterials].apply(lambda x : x.astype(int).sum())\n",
    "    allRaySums['outside'] = allRaySums[viewColumns].sum(axis=1)\n",
    "    allRaySums['inside'] = allRaySums[interiorMats].sum(axis=1)\n",
    "    allRaySums['total'] = allRaySums[allMaterials].sum(axis=1)\n",
    " \n",
    "    # Calculate total % of rays reaching outside\n",
    "    allRaySums['outside_0-100'] = allRaySums['outside'] / allRaySums['total']\n",
    "    \n",
    "    print('>> All rays per point:')\n",
    "    print(allRaySums.head())\n",
    "\n",
    "    # Boolean variable to filter by threshold\n",
    "    thresholdpts = allRaySums['outside_0-100'] >= viewThreshold\n",
    "\n",
    "    # filter rows by boolean variable\n",
    "    viewPoints = allRaySums[thresholdpts] # points with view\n",
    "    noViewPoints = allRaySums[~thresholdpts] # points without view (the majority)\n",
    "\n",
    "    # Calculate % of total points per floor with a view\n",
    "    viewFloors = viewPoints.groupby(['z']).outside.count()\n",
    "    noViewFloors = noViewPoints.groupby(['z']).outside.count()\n",
    "    allRaysbyFloor = allRaySums.groupby(['z']).outside.count()\n",
    "\n",
    "    # Percentage of points with view per floor \n",
    "    # use the noViewFloors to retain all floors in sample (some floors may not have exterior views)\n",
    "    viewFloorPercent = (allRaysbyFloor-noViewFloors)*100/allRaysbyFloor\n",
    "   \n",
    "    print('>> % of floor points with minimum view')\n",
    "    print(viewFloorPercent)  \n",
    "\n",
    "    \n",
    "    # Describe the point by point results\n",
    "    print('>> Summary Statistics by points in BIN:')\n",
    "    print(allRaySums[['inside', 'outside', 'total', 'outside_0-100']].describe())\n",
    "    \n",
    "    # Plot the points in the BIN\n",
    "    pd.DataFrame(allRaySums['outside_0-100']).hist(bins=50)\n",
    "    plt.show()\n",
    "    \n",
    "    #return(allRaySums)\n",
    "    return(viewFloorPercent)\n",
    "\n",
    "\n",
    "\n",
    "# Filter points by those that meet view threshold minimum \n",
    "def filter_points(allRaySums, viewThreshold): \n",
    "    # allRaySums: output of rays_per_point\n",
    "    # viewThreshold: outdoor ray % threshold for each point (0-100%) --> will be very low (< 1%)\n",
    "    \n",
    "\n",
    "    # Calculate % of total points per floor with a view\n",
    "    viewFloors = viewPoints.groupby(['z']).outside.count()\n",
    "    noViewFloors = noViewPoints.groupby(['z']).outside.count()\n",
    "    allRaysbyFloor = allRaySums.groupby(['z']).outside.count()\n",
    "\n",
    "    # Percentage of points with view per floor \n",
    "    # use the noViewFloors to retain all floors in sample (some floors may not have exterior views)\n",
    "    viewFloorPercent = (allRaysbyFloor-noViewFloors)*100/allRaysbyFloor\n",
    "\n",
    "    #print(noViewPoints)\n",
    "    #print(allRaySums)\n",
    "    print('*** % of floor points with minimum view ***')\n",
    "    \n",
    "\n",
    "    print(viewFloorPercent)  \n",
    "    return(viewFloorPercent)\n",
    "\n",
    "    "
   ]
  },
  {
   "cell_type": "code",
   "execution_count": 12,
   "metadata": {
    "collapsed": false,
    "scrolled": false
   },
   "outputs": [
    {
     "name": "stdout",
     "output_type": "stream",
     "text": [
      "START: 1034235\n",
      "D:\\ituran\\NYCviews\\BINS_test\\1034235\\1034235_out.dat\n",
      "step 1: done\n",
      "step 2: done\n",
      ">> All rays per point:\n",
      "                            mat_GenericCeiling_70  mat_GenericFloor_20  \\\n",
      "z       x         y                                                      \n",
      "88.3276 -10764.16 14732.62                    551                 1168   \n",
      "        -10761.44 14737.52                    627                 1641   \n",
      "        -10759.18 14729.87                    560                 1615   \n",
      "        -10758.48 14742.87                    765                 1843   \n",
      "        -10756.47 14734.77                    642                 2258   \n",
      "\n",
      "                            mat_GenericInteriorWall_50  mat_OutsideFacade_30  \\\n",
      "z       x         y                                                            \n",
      "88.3276 -10764.16 14732.62                        1797                  2579   \n",
      "        -10761.44 14737.52                        1908                  1922   \n",
      "        -10759.18 14729.87                        1796                  2140   \n",
      "        -10758.48 14742.87                        1500                  2003   \n",
      "        -10756.47 14734.77                        1950                  1261   \n",
      "\n",
      "                            mat_sky_mat  mat_view_ground  mat_view_icon  \\\n",
      "z       x         y                                                       \n",
      "88.3276 -10764.16 14732.62            0                9              0   \n",
      "        -10761.44 14737.52            0                6              0   \n",
      "        -10759.18 14729.87            0                0              0   \n",
      "        -10758.48 14742.87            0                0              0   \n",
      "        -10756.47 14734.77            0                0              0   \n",
      "\n",
      "                            mat_view_landmark  mat_view_water  outside  \\\n",
      "z       x         y                                                      \n",
      "88.3276 -10764.16 14732.62                  7               0     2595   \n",
      "        -10761.44 14737.52                  7               0     1935   \n",
      "        -10759.18 14729.87                  0               0     2140   \n",
      "        -10758.48 14742.87                  0               0     2003   \n",
      "        -10756.47 14734.77                  0               0     1261   \n",
      "\n",
      "                            inside  total  outside_0-100  \n",
      "z       x         y                                       \n",
      "88.3276 -10764.16 14732.62    3516   6111       0.424644  \n",
      "        -10761.44 14737.52    4176   6111       0.316642  \n",
      "        -10759.18 14729.87    3971   6111       0.350188  \n",
      "        -10758.48 14742.87    4108   6111       0.327770  \n",
      "        -10756.47 14734.77    4850   6111       0.206349  \n",
      ">> Summary Statistics by points in BIN:\n",
      "            inside      outside   total  outside_0-100\n",
      "count   432.000000   432.000000   432.0     432.000000\n",
      "mean   4840.083333  1270.916667  6111.0       0.207972\n",
      "std     568.056529   568.056529     0.0       0.092956\n",
      "min    3201.000000   557.000000  6111.0       0.091147\n",
      "25%    4414.750000   812.750000  6111.0       0.132998\n",
      "50%    4995.500000  1115.500000  6111.0       0.182540\n",
      "75%    5298.250000  1696.250000  6111.0       0.277573\n",
      "max    5554.000000  2910.000000  6111.0       0.476190\n"
     ]
    },
    {
     "data": {
      "image/png": "[encoded data removed]",
      "text/plain": [
       "<matplotlib.figure.Figure at 0x2569026acf8>"
      ]
     },
     "metadata": {},
     "output_type": "display_data"
    },
    {
     "name": "stdout",
     "output_type": "stream",
     "text": [
      "step 3: done\n",
      "step 4: done\n",
      "END: 1034235\n"
     ]
    }
   ],
   "source": [
    "resultsTest = r'D:\\ituran\\NYCviews\\BINS_test'\n",
    "filename = '1034235'\n",
    "\n",
    "resultsPath = resultsTest + '\\\\' + filename + '\\\\' + filename + '_out.dat'\n",
    "\n",
    "print('START: ' + filename)\n",
    "print(resultsPath)\n",
    "\n",
    "# workflow for one BIN\n",
    "df_data = read_dat_csv(resultsPath)\n",
    "print('step 1: done')\n",
    "\n",
    "df_data2 = encode_materials(df_data)\n",
    "print('step 2: done')\n",
    "\n",
    "df_data3 = rays_per_point(df_data2)\n",
    "print('step 3: done')\n",
    "\n",
    "#df_data4 = filter_points(df_data3, viewThreshold)\n",
    "print('step 4: done')\n",
    "\n",
    "print('END: ' + filename)\n",
    "    "
   ]
  },
  {
   "cell_type": "markdown",
   "metadata": {},
   "source": [
    "# Loop through BINS"
   ]
  },
  {
   "cell_type": "code",
   "execution_count": 4,
   "metadata": {
    "collapsed": false,
    "scrolled": false
   },
   "outputs": [
    {
     "name": "stdout",
     "output_type": "stream",
     "text": [
      "START: 1034228\n",
      "D:\\ituran\\NYCviews\\BINS_test\\1034228\\1034228_out.dat\n",
      "step 1: done\n",
      "step 2: done\n"
     ]
    },
    {
     "data": {
      "image/png": "[encoded data removed]",
      "text/plain": [
       "<matplotlib.figure.Figure at 0x256a7282278>"
      ]
     },
     "metadata": {},
     "output_type": "display_data"
    },
    {
     "name": "stdout",
     "output_type": "stream",
     "text": [
      "step 3: done\n",
      "*** % of floor points with minimum view ***\n",
      "z\n",
      "67.0635     17.194570\n",
      "249.4635    32.579186\n",
      "Name: outside, dtype: float64\n",
      "step 4: done\n",
      "END: 1034228\n",
      "START: 1034235\n",
      "D:\\ituran\\NYCviews\\BINS_test\\1034235\\1034235_out.dat\n",
      "step 1: done\n",
      "step 2: done\n"
     ]
    },
    {
     "data": {
      "image/png": "[encoded data removed]",
      "text/plain": [
       "<matplotlib.figure.Figure at 0x256a74ebbe0>"
      ]
     },
     "metadata": {},
     "output_type": "display_data"
    },
    {
     "name": "stdout",
     "output_type": "stream",
     "text": [
      "step 3: done\n",
      "*** % of floor points with minimum view ***\n",
      "z\n",
      "88.3276     85.470085\n",
      "145.3276    49.523810\n",
      "179.5276    65.714286\n",
      "259.3276    52.380952\n",
      "Name: outside, dtype: float64\n",
      "step 4: done\n",
      "END: 1034235\n",
      "START: 1034237\n",
      "D:\\ituran\\NYCviews\\BINS_test\\1034237\\1034237_out.dat\n",
      "step 1: done\n",
      "step 2: done\n"
     ]
    },
    {
     "data": {
      "image/png": "[encoded data removed]",
      "text/plain": [
       "<matplotlib.figure.Figure at 0x256a765acf8>"
      ]
     },
     "metadata": {},
     "output_type": "display_data"
    },
    {
     "name": "stdout",
     "output_type": "stream",
     "text": [
      "step 3: done\n",
      "*** % of floor points with minimum view ***\n",
      "z\n",
      "100.973    43.859649\n",
      "Name: outside, dtype: float64\n",
      "step 4: done\n",
      "END: 1034237\n",
      "START: 1034240\n",
      "D:\\ituran\\NYCviews\\BINS_test\\1034240\\1034240_out.dat\n",
      "step 1: done\n",
      "step 2: done\n"
     ]
    },
    {
     "data": {
      "image/png": "[encoded data removed]",
      "text/plain": [
       "<matplotlib.figure.Figure at 0x256a75b09b0>"
      ]
     },
     "metadata": {},
     "output_type": "display_data"
    },
    {
     "name": "stdout",
     "output_type": "stream",
     "text": [
      "step 3: done\n",
      "*** % of floor points with minimum view ***\n",
      "z\n",
      "89.6935     19.090909\n",
      "101.0935     6.363636\n",
      "123.8935    20.909091\n",
      "135.2935     6.363636\n",
      "146.6935    22.272727\n",
      "Name: outside, dtype: float64\n",
      "step 4: done\n",
      "END: 1034240\n",
      "START: 1034242\n",
      "D:\\ituran\\NYCviews\\BINS_test\\1034242\\1034242_out.dat\n",
      "step 1: done\n",
      "step 2: done\n"
     ]
    },
    {
     "data": {
      "image/png": "[encoded data removed]",
      "text/plain": [
       "<matplotlib.figure.Figure at 0x2569011dfd0>"
      ]
     },
     "metadata": {},
     "output_type": "display_data"
    },
    {
     "name": "stdout",
     "output_type": "stream",
     "text": [
      "step 3: done\n",
      "*** % of floor points with minimum view ***\n",
      "z\n",
      "64.9278     50.326797\n",
      "167.5278    23.809524\n",
      "Name: outside, dtype: float64\n",
      "step 4: done\n",
      "END: 1034242\n"
     ]
    }
   ],
   "source": [
    "# Get list of all BINS in results directory list \n",
    "dir_list = get_immediate_subdirs(results_dir)\n",
    "\n",
    "# loop through all BIN results\n",
    "for filename in dir_list: \n",
    "    resultsPath = results_dir + '\\\\' + filename + '\\\\' + filename + '_out.dat'\n",
    "    print('START: ' + filename)\n",
    "    print(resultsPath)\n",
    "\n",
    "    # workflow for one BIN\n",
    "    df_data = read_dat_csv(resultsPath)\n",
    "    print('step 1: done')\n",
    "\n",
    "    df_data2 = encode_materials(df_data)\n",
    "    print('step 2: done')\n",
    "\n",
    "    df_data3 = rays_per_point(df_data2)\n",
    "    print('step 3: done')\n",
    "\n",
    "    df_data4 = filter_points(df_data3, viewThreshold)\n",
    "    print('step 4: done')\n",
    "    \n",
    "    print('END: ' + filename)\n",
    "    \n"
   ]
  },
  {
   "cell_type": "markdown",
   "metadata": {},
   "source": [
    "# Read results file into dataframe"
   ]
  },
  {
   "cell_type": "code",
   "execution_count": null,
   "metadata": {
    "collapsed": false,
    "scrolled": true
   },
   "outputs": [],
   "source": [
    "# Read csv file in to df\n",
    "data = pd.read_csv(csvfile, sep=\"\\t\", header=None, index_col=False)\n",
    "data = data.drop(data.columns[-1], axis=1)\n",
    "data.columns = [\"x\", \"y\", \"z\", \"mat\", \"dist\", \"destination\"]\n",
    "\n",
    "print(data.head())\n",
    "print(data.shape)"
   ]
  },
  {
   "cell_type": "code",
   "execution_count": null,
   "metadata": {
    "collapsed": false,
    "scrolled": true
   },
   "outputs": [],
   "source": [
    "# Encode the materials in the df using one hot encoding (one column per material)\n",
    "# create a copy of the original material column for reference \n",
    "data['orig_mat']=data['mat']\n",
    "\n",
    "data = pd.get_dummies(data, columns=['mat'])\n",
    "print(data.head())\n",
    "\n",
    "### --- OLD --- #### \n",
    "# using one hot coding not ordinal coding \n",
    "\n",
    "#Convert the materials to categories and then encode numerically in a new column called mat_cat\n",
    "#data['mat']=data['mat'].astype('category')\n",
    "#data['mat_cat']=data['mat'].cat.codes\n",
    "\n",
    "# Tally all rays thatreach each material type\n",
    "#print(data.groupby(['mat', 'mat_cat']).size())\n",
    "####################"
   ]
  },
  {
   "cell_type": "markdown",
   "metadata": {},
   "source": [
    "# Calculate the total external rays for each point on each floor"
   ]
  },
  {
   "cell_type": "code",
   "execution_count": null,
   "metadata": {
    "collapsed": false,
    "scrolled": true
   },
   "outputs": [],
   "source": [
    "# Filter points by how many rays reach outside / inside (based on material names -- UPDATE IF NEEDED)\n",
    "viewColumns = data.filter(regex='view|Outside|sky').columns\n",
    "interiorMats = data.filter(regex='Generic').columns\n",
    "allMaterials = data.filter(regex='Generic|view|Outside|sky').columns\n",
    "\n",
    "# Sum up total rays hitting each material type and create new column with all outside ray counts\n",
    "allRaySums = data.groupby(['z','x', 'y'])[allMaterials].apply(lambda x : x.astype(int).sum())\n",
    "allRaySums['outside'] = allRaySums[viewColumns].sum(axis=1)\n",
    "allRaySums['inside'] = allRaySums[interiorMats].sum(axis=1)\n",
    "allRaySums['total'] = allRaySums[allMaterials].sum(axis=1)\n",
    "\n",
    "# Calculate total % of rays reaching outside\n",
    "allRaySums['outside_0-100'] = allRaySums['outside'] / allRaySums['total']\n",
    "print(allRaySums.head())\n",
    "\n",
    "# Describe the point by point results\n",
    "print(allRaySums[['inside', 'outside', 'total', 'outside_0-100']].describe())\n",
    "pd.DataFrame(allRaySums['outside_0-100']).hist(bins=50)\n",
    "plt.show()"
   ]
  },
  {
   "cell_type": "markdown",
   "metadata": {},
   "source": [
    "# Filter points by those that meet view threshold minimum "
   ]
  },
  {
   "cell_type": "code",
   "execution_count": null,
   "metadata": {
    "collapsed": false
   },
   "outputs": [],
   "source": [
    "# Boolean variable to filter by threshold\n",
    "thresholdpts = allRaySums['outside_0-100'] >= viewThreshold\n",
    "\n",
    "# filter rows by boolean variable\n",
    "viewPoints = allRaySums[thresholdpts] # points with view\n",
    "noViewPoints = allRaySums[~thresholdpts] # points without view (the majority)\n",
    "\n",
    "# Calculate % of total points per floor with a view\n",
    "viewFloors = viewPoints.groupby(['z']).outside.count()\n",
    "noViewFloors = noViewPoints.groupby(['z']).outside.count()\n",
    "allRaysbyFloor = allRaySums.groupby(['z']).outside.count()\n",
    "\n",
    "# Percentage of points with view per floor \n",
    "# use the noViewFloors to retain all floors in sample (some floors may not have exterior views)\n",
    "viewFloorPercent = (allRaysbyFloor-noViewFloors)*100/allRaysbyFloor\n",
    "\n",
    "print(noViewPoints)\n",
    "print(allRaySums)\n",
    "print(viewFloorPercent)"
   ]
  },
  {
   "cell_type": "code",
   "execution_count": null,
   "metadata": {
    "collapsed": true
   },
   "outputs": [],
   "source": [
    "# Breakdown of view objects by floor\n",
    "print()"
   ]
  },
  {
   "cell_type": "code",
   "execution_count": null,
   "metadata": {
    "collapsed": false,
    "scrolled": false
   },
   "outputs": [],
   "source": [
    "# Group the data by origin points and then by the material\n",
    "# NOTE: groupby.count returns a df; groupby.size returns a series. Also: count does not include null values, while size does\n",
    "# group first by z and then x and y, and then by each material category\n",
    "# as_index to create a new dataframe from the groupby (rather than a series)\n",
    "\n",
    "### OLD ###\n",
    "#dataOriginPts = data.groupby(['z','x', 'y', 'mat_cat'], as_index=False).mat.count()\n",
    "#dataGroupPts = data.groupby(['z','x', 'y']).count()\n",
    "#dataGroupFlrs = data.groupby('z').count()\n",
    "###########\n",
    "\n",
    "#create list of material columns\n",
    "mat_columns = [col for col in data if col.startswith('mat_')]\n",
    "\n",
    "#Group points by floor and calculate totals for materials\n",
    "dataGroupFlrs = data.groupby('z', as_index=False)\n",
    "\n",
    "dataGroupFlrsSum = data.groupby('z', as_index=False).orig_mat.count()\n",
    "dataMaterials = dataGroupFlrs[mat_columns].sum()\n",
    "\n",
    "dataMaterials[mat_columns] = dataMaterials[mat_columns].div(dataGroupFlrsSum['orig_mat'], axis = 0)*100\n",
    "\n",
    "# Get the min and max distances for each floor\n",
    "dataDistances = dataGroupFlrs['dist'].agg([min, max], axis=1)\n",
    "\n",
    "print(dataGroupFlrsSum)\n",
    "print('---MATERIAL TOTALS---')\n",
    "print(dataMaterials)\n",
    "print(dataDistances)"
   ]
  },
  {
   "cell_type": "code",
   "execution_count": null,
   "metadata": {
    "collapsed": false,
    "scrolled": true
   },
   "outputs": [],
   "source": [
    "# Create a df with only the unique origins \n",
    "dataOrigin = data.filter(['x', 'y', 'z'], axis=1)\n",
    "#dataOrigin = dataOrigin.drop_duplicates()\n",
    "\n",
    "print(dataOrigin.shape)\n",
    "dataOrigin.sort_values('z', inplace = True)\n",
    "dataOriginUnique = dataOrigin.drop_duplicates(subset=['x', 'y', 'z'], keep = 'last')\n",
    "\n",
    "\n",
    "print(dataOriginUnique.head())\n",
    "print(dataOriginUnique.shape)\n",
    "print(dataOriginUnique.size)\n",
    "\n",
    "#Check that all floors are represented\n",
    "#print(\"z value of all floors:\")\n",
    "#print(dataOrigin[\"z\"].unique())\n",
    "\n",
    "#Print all points on each floor\n",
    "print(dataOriginUnique.groupby('z').count())\n"
   ]
  },
  {
   "cell_type": "code",
   "execution_count": null,
   "metadata": {
    "collapsed": false
   },
   "outputs": [],
   "source": [
    "# Create a df of all the material types that are hit\n",
    "dataMat = data.filter(['mat'], axis=1)\n",
    "dataMat = dataMat.drop_duplicates()\n",
    "\n",
    "#Convert the materials to categories and then encode\n",
    "dataMat['mat']=dataMat['mat'].astype('category')\n",
    "dataMat['mat_cat']=dataMat['mat'].cat.codes\n",
    "\n",
    "\n",
    "print(dataMat.dtypes)\n",
    "\n",
    "\n",
    "print(dataMat.head())\n",
    "print(dataMat.shape)"
   ]
  },
  {
   "cell_type": "code",
   "execution_count": null,
   "metadata": {
    "collapsed": true
   },
   "outputs": [],
   "source": [
    "# Create results df for each floor (rows == each point; columns == each material)\n",
    "\n",
    "\n",
    "\n",
    "\n"
   ]
  }
 ],
 "metadata": {
  "anaconda-cloud": {},
  "kernelspec": {
   "display_name": "Python [NAS_ituran]",
   "language": "python",
   "name": "Python [NAS_ituran]"
  },
  "language_info": {
   "codemirror_mode": {
    "name": "ipython",
    "version": 3
   },
   "file_extension": ".py",
   "mimetype": "text/x-python",
   "name": "python",
   "nbconvert_exporter": "python",
   "pygments_lexer": "ipython3",
   "version": "3.5.4"
  }
 },
 "nbformat": 4,
 "nbformat_minor": 0
}
