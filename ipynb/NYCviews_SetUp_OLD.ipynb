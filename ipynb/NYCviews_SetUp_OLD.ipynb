{
 "cells": [
  {
   "cell_type": "code",
   "execution_count": 1,
   "metadata": {
    "collapsed": false,
    "nbpresent": {
     "id": "4a218089-1eec-48d6-ab45-7907254ebafd"
    },
    "scrolled": true
   },
   "outputs": [],
   "source": [
    "import os\n",
    "import numpy as np\n",
    "import pandas as pd\n",
    "import matplotlib.pyplot as plt\n",
    "from mpl_toolkits import mplot3d\n",
    "import glob\n",
    "import csv\n",
    "from datetime import datetime\n",
    "\n",
    "from subprocess import Popen\n",
    "from multiprocessing import Pool\n",
    "\n"
   ]
  },
  {
   "cell_type": "markdown",
   "metadata": {
    "nbpresent": {
     "id": "0a08a366-edad-428e-91c3-f36b01fa370d"
    }
   },
   "source": [
    "# Creating points on a sphere "
   ]
  },
  {
   "cell_type": "code",
   "execution_count": 2,
   "metadata": {
    "collapsed": false,
    "nbpresent": {
     "id": "fc45ce34-a57f-4c92-b97d-05056298ede5"
    }
   },
   "outputs": [
    {
     "name": "stdout",
     "output_type": "stream",
     "text": [
      "(6111, 3)\n"
     ]
    }
   ],
   "source": [
    "# Inputs\n",
    "theta_max = 40      # angle above horizontal (0-90 deg)\n",
    "theta_min = 70      # angle below horizontal (0-90 deg, can be positive or negative)\n",
    "n = 10000             # n = number of points on the sphere (full sphere, before cutting off range of vision)\n",
    " \n",
    "golden_angle = np.pi * (3 - np.sqrt(5))\n",
    "theta = golden_angle * np.arange(n)      # create an array with n elements\n",
    "z = np.linspace(1 - 1.0 / n, 1.0 / n - 1, n)     # array with linear spacing from 1-1/n to 1/n-1 with n elements \n",
    "radius = np.sqrt(1 - z * z)\n",
    " \n",
    "#selectTheta = np.array[(theta > theta.min) & (theta < theta.max)]\n",
    "\n",
    "# Create points = array of n elements with [0, 0, 0]\n",
    "points = np.zeros((n, 3))\n",
    "\n",
    "points[:,0] = radius * np.cos(theta)\n",
    "points[:,1] = radius * np.sin(theta)\n",
    "points[:,2] = z\n",
    "\n",
    "#select only points within range of vision\n",
    "angle_max = abs(theta_max)/90\n",
    "angle_min = -abs(theta_min)/90\n",
    "selectPts = np.delete(points, np.where(np.logical_or(points[:,2]>angle_max, points[:,2]<=angle_min)), axis=0)\n",
    "\n",
    "print(selectPts.shape)\n",
    "\n",
    "# Convert the rays array to dataframe\n",
    "all_rays_df = pd.DataFrame(selectPts)\n"
   ]
  },
  {
   "cell_type": "code",
   "execution_count": 3,
   "metadata": {
    "collapsed": false,
    "nbpresent": {
     "id": "d63508af-53f9-45de-a3bc-0cff5a0ea229"
    },
    "scrolled": true
   },
   "outputs": [
    {
     "data": {
      "text/plain": [
       "<mpl_toolkits.mplot3d.art3d.Path3DCollection at 0x18c129e0320>"
      ]
     },
     "execution_count": 3,
     "metadata": {},
     "output_type": "execute_result"
    }
   ],
   "source": [
    "# Plot test\n",
    "pts_x = selectPts[:,0]\n",
    "pts_y = selectPts[:,1]\n",
    "pts_z = selectPts[:,2]\n",
    " \n",
    "fig = plt.figure()\n",
    "ax = fig.add_subplot(111, projection='3d')\n",
    "ax.scatter3D(pts_x, pts_y, pts_z)\n"
   ]
  },
  {
   "cell_type": "markdown",
   "metadata": {
    "nbpresent": {
     "id": "57c295d4-c722-45f4-adb5-0e7c063fa24b"
    }
   },
   "source": [
    "# Move grid points up (not needed each time) "
   ]
  },
  {
   "cell_type": "code",
   "execution_count": 16,
   "metadata": {
    "collapsed": false,
    "nbpresent": {
     "id": "ae1648a0-9821-4f77-b79f-8318a3786e5d"
    }
   },
   "outputs": [],
   "source": [
    "sourceDir = r\"D:\\ituran\\NYCviews\\BINS_test\"\n",
    "zMove = 3"
   ]
  },
  {
   "cell_type": "code",
   "execution_count": 31,
   "metadata": {
    "collapsed": false,
    "nbpresent": {
     "id": "f88bfaf5-946e-454b-bb08-d7f67a97a710"
    },
    "scrolled": false
   },
   "outputs": [
    {
     "name": "stdout",
     "output_type": "stream",
     "text": [
      "all clear in D:\\ituran\\NYCviews\\BINS_test\\1034228\n",
      "all clear in D:\\ituran\\NYCviews\\BINS_test\\1034228\n",
      "delete 1034228_all_5.pts\n",
      "all clear in D:\\ituran\\NYCviews\\BINS_test\\1034228\n",
      "all clear in D:\\ituran\\NYCviews\\BINS_test\\1034228\n",
      "all clear in D:\\ituran\\NYCviews\\BINS_test\\1034228\n",
      "all clear in D:\\ituran\\NYCviews\\BINS_test\\1034235\n",
      "all clear in D:\\ituran\\NYCviews\\BINS_test\\1034235\n",
      "all clear in D:\\ituran\\NYCviews\\BINS_test\\1034235\n",
      "all clear in D:\\ituran\\NYCviews\\BINS_test\\1034235\n",
      "delete 1034235_all_5.pts\n",
      "all clear in D:\\ituran\\NYCviews\\BINS_test\\1034235\n",
      "all clear in D:\\ituran\\NYCviews\\BINS_test\\1034235\n",
      "all clear in D:\\ituran\\NYCviews\\BINS_test\\1034235\n",
      "all clear in D:\\ituran\\NYCviews\\BINS_test\\1034237\n",
      "delete 1034237_all_5.pts\n",
      "all clear in D:\\ituran\\NYCviews\\BINS_test\\1034237\n",
      "all clear in D:\\ituran\\NYCviews\\BINS_test\\1034237\n",
      "all clear in D:\\ituran\\NYCviews\\BINS_test\\1034237\n",
      "all clear in D:\\ituran\\NYCviews\\BINS_test\\1034240\n",
      "all clear in D:\\ituran\\NYCviews\\BINS_test\\1034240\n",
      "all clear in D:\\ituran\\NYCviews\\BINS_test\\1034240\n",
      "all clear in D:\\ituran\\NYCviews\\BINS_test\\1034240\n",
      "all clear in D:\\ituran\\NYCviews\\BINS_test\\1034240\n",
      "delete 1034240_all_5.pts\n",
      "all clear in D:\\ituran\\NYCviews\\BINS_test\\1034240\n",
      "all clear in D:\\ituran\\NYCviews\\BINS_test\\1034240\n",
      "all clear in D:\\ituran\\NYCviews\\BINS_test\\1034240\n",
      "all clear in D:\\ituran\\NYCviews\\BINS_test\\1034242\n",
      "all clear in D:\\ituran\\NYCviews\\BINS_test\\1034242\n",
      "delete 1034242_all_5.pts\n",
      "all clear in D:\\ituran\\NYCviews\\BINS_test\\1034242\n",
      "all clear in D:\\ituran\\NYCviews\\BINS_test\\1034242\n",
      "all clear in D:\\ituran\\NYCviews\\BINS_test\\1034242\n"
     ]
    }
   ],
   "source": [
    "# Remove any existing revised pts files (ONLY NEEDED IF RERUNNING SCRIPT BELOW)\n",
    "for path, subdir, files in os.walk(sourceDir):\n",
    "    # Remove any older revised pt files created\n",
    "    for name in files: \n",
    "        if name.endswith('_all_5.pts'):\n",
    "            print('delete', name)\n",
    "            os.remove(os.path.join(path, name))\n",
    "        else: \n",
    "            print('all clear in', path)       "
   ]
  },
  {
   "cell_type": "code",
   "execution_count": 32,
   "metadata": {
    "collapsed": false,
    "nbpresent": {
     "id": "0e52c138-0983-4db9-9e24-3667b9ec02ef"
    }
   },
   "outputs": [],
   "source": [
    "for BIN in os.listdir(sourceDir):    \n",
    "    #Make list of all .pts file in directory\n",
    "    os.chdir(sourceDir + \"\\\\\" + BIN)\n",
    "\n",
    "    newPtsFile = sourceDir + \"\\\\\" + BIN + \"\\\\\" + BIN + '_all_5.pts'   \n",
    "    all_lines = []\n",
    "    for file in glob.glob(\"*.pts\"): \n",
    "        # Read .pts file into list and convert to DF\n",
    "        with open(sourceDir + \"\\\\\" + BIN + \"\\\\\" + file) as f: \n",
    "            lines = f.readlines()\n",
    "        lines = [x.strip() for x in lines]\n",
    "        for i in range(len(lines)): \n",
    "            oneRow = list(map(float, lines[i].split()))\n",
    "\n",
    "            # Move Z up by specified amount\n",
    "            oneRow[2] = oneRow[2] + zMove\n",
    "\n",
    "            all_lines.append(oneRow)\n",
    "\n",
    "    # Write a new .pts file with all of the updated points \n",
    "    stringList = []\n",
    "    for line in all_lines: \n",
    "        line[3:6] = map(int, line[3:6])\n",
    "        newLine = ' '.join(str(x) for x in line)\n",
    "        stringList.append(newLine)\n",
    "        \n",
    "    with open(newPtsFile, 'w') as out: \n",
    "        out.write('\\n'.join(stringList))\n",
    "  "
   ]
  },
  {
   "cell_type": "markdown",
   "metadata": {
    "nbpresent": {
     "id": "660d1556-df85-48b7-98e2-e55c248cbd91"
    }
   },
   "source": [
    "# Functions for prepping BIN Directories"
   ]
  },
  {
   "cell_type": "code",
   "execution_count": 5,
   "metadata": {
    "collapsed": false,
    "nbpresent": {
     "id": "e05297e5-ca74-4321-aeae-5bea1c6c895e"
    }
   },
   "outputs": [],
   "source": [
    "# FUNCTION: Concatenate all the pts for all floors into one dataframe\n",
    "def concatenateAllPts(sourceDir, BIN):\n",
    "   \n",
    "    #sourceDir: the directory for all BIN folders\n",
    "    #BIN: name of BIN (string)\n",
    "\n",
    "    #Make list of all .pts file in directory\n",
    "    os.chdir(sourceDir + \"\\\\\" + BIN)\n",
    "    all_lines = []\n",
    "    for file in glob.glob(\"*.pts\"): \n",
    "\n",
    "        # Read .pts file into list and convert to DF\n",
    "        with open(sourceDir + \"\\\\\" + BIN + \"\\\\\" + file) as f: \n",
    "            lines = f.readlines()\n",
    "        lines = [x.strip() for x in lines]\n",
    "        for i in range(len(lines)): \n",
    "            oneRow = list(map(float, lines[i].split()))\n",
    "            del oneRow[-3:]\n",
    "            all_lines.append(oneRow)\n",
    "\n",
    "    #Create dataframe with points for all floors in BIN\n",
    "    BIN_pts_df = pd.DataFrame(all_lines)\n",
    "    BIN_pts_df.columns = [\"x\", \"y\", \"z\"]\n",
    "\n",
    "    #print(BIN_pts_df.head())\n",
    "    print(\"---> # of points in all floors in BIN (# rows):\", BIN_pts_df.shape)\n",
    "    #print(BIN_pts_df.shape)\n",
    "\n",
    "    #Check that all floors are represented\n",
    "    #print(\"z value of all floors:\")\n",
    "    #print(BIN_pts_df[\"z\"].unique())\n",
    "    \n",
    "    return(BIN_pts_df)\n",
    "\n",
    "# FUNCTION: Create the rays for each point in the BIN grids\n",
    "def createGridRays(ray_vec_df, BIN_pts_df):\n",
    "\n",
    "    # ray_vec_df: the trace to trace in a dataframe \n",
    "    # BIN_pts_df: all points in the BIN in a dataframe\n",
    "    \n",
    "    # Duplicate each row of grid point df by size of vector df and add ray index column\n",
    "    vectors_df = pd.DataFrame(np.repeat(BIN_pts_df.values, len(ray_vec_df.index), axis=0))\n",
    "    vectors_df['ray_count'] = vectors_df.groupby(0).cumcount()\n",
    "    vectors_df = vectors_df.reset_index(drop=True)\n",
    "\n",
    "    all_vectors = pd.merge(vectors_df, ray_vec_df, left_on='ray_count', right_index=True)\n",
    "    all_vectors = all_vectors.drop(['ray_count'], axis=1)\n",
    "    grid_vectors = all_vectors.sort_index()\n",
    "\n",
    "    print(\"---> shape of grid df (# points x # rays):\", grid_vectors.shape)\n",
    "    #print(grid_vectors.shape)\n",
    "    \n",
    "    return(grid_vectors)\n",
    "\n",
    "# FUNCTION: Export dataframe to CSV (TAKES A LONG TIME -- V BIG FILES!)\n",
    "def writeGridRaystoCSV(grid_vectors, sourceDir, BIN):\n",
    "\n",
    "    #grid_vectors: the output from createGridRays\n",
    "    #sourceDir: the directory for all BIN folders\n",
    "    #BIN: name of BIN (string)\n",
    "    \n",
    "    print(\"---> WRITE_START:\", datetime.now())\n",
    "    csvFile = sourceDir + \"\\\\\" + BIN + \"\\\\\" + BIN + \"_rays.csv\"\n",
    "    grid_vectors.to_csv(csvFile, sep=\" \", header=False, index=False)\n",
    "    print(\"---> WRITE_END:\", datetime.now())\n",
    "\n",
    "    # Check the file size\n",
    "    size = os.path.getsize(csvFile)\n",
    "    print(\"---> csv file size: \" + str(size/1e+6) + \"mb\")\n",
    "\n",
    "# FUNCTION: Plot test the grid vectors \n",
    "def plotGridVectorsTest(grid_vectors):\n",
    "    \n",
    "    #Take a small portion of the vectors \n",
    "    grid_slice = grid_vectors.truncate(after=600)\n",
    "\n",
    "    fig=plt.figure(figsize=(18, 16), dpi= 80, facecolor='w', edgecolor='k')\n",
    "    ax = fig.add_subplot(111, projection='3d')\n",
    "    ax.quiver(grid_slice[\"0_x\"], grid_slice[\"1_x\"], grid_slice[\"2_x\"], grid_slice[\"0_y\"], grid_slice[\"1_y\"], grid_slice[\"2_y\"])\n",
    "\n",
    "    #ax.set_zlim(-1.01, 1.01)\n",
    "\n",
    "    ax.view_init(azim=0, elev=90)\n",
    "    plt.show()\n",
    "\n",
    "    \n",
    "    \n",
    "############################################\n",
    "#### NEW 200320 for the moved Z points! #### \n",
    "############################################\n",
    "\n",
    "# FUNCTION: Concatenate all the pts for all floors into one dataframe\n",
    "def concatenateAllPtsMoved(sourceDir, BIN):\n",
    "   \n",
    "    #sourceDir: the directory for all BIN folders\n",
    "    #BIN: name of BIN (string)\n",
    "\n",
    "    #Make list of all .pts file in directory\n",
    "    os.chdir(sourceDir + \"\\\\\" + BIN)\n",
    "    all_lines = []\n",
    "    \n",
    "    for file in glob.glob(\"*_all_5.pts\"): \n",
    "        # Read .pts file into list and convert to DF\n",
    "        with open(sourceDir + \"\\\\\" + BIN + \"\\\\\" + file) as f: \n",
    "            lines = f.readlines()\n",
    "        lines = [x.strip() for x in lines]\n",
    "        for i in range(len(lines)): \n",
    "            oneRow = list(map(float, lines[i].split()))\n",
    "            del oneRow[-3:]\n",
    "            all_lines.append(oneRow)\n",
    "\n",
    "    #Create dataframe with points for all floors in BIN\n",
    "    BIN_pts_df = pd.DataFrame(all_lines)\n",
    "    BIN_pts_df.columns = [\"x\", \"y\", \"z\"]\n",
    "\n",
    "    #print(BIN_pts_df.head())\n",
    "    print(\"---> # of points in all floors in BIN (# rows):\", BIN_pts_df.shape)\n",
    "    #print(BIN_pts_df.shape)\n",
    "\n",
    "    #Check that all floors are represented\n",
    "    #print(\"z value of all floors:\")\n",
    "    #print(BIN_pts_df[\"z\"].unique())\n",
    "    \n",
    "    return(BIN_pts_df)"
   ]
  },
  {
   "cell_type": "markdown",
   "metadata": {
    "nbpresent": {
     "id": "92ca8a8c-edfe-442c-aa34-ec1834a96628"
    }
   },
   "source": [
    "# Create csv with ray for full floor analysis grid --- all floors in BIN"
   ]
  },
  {
   "cell_type": "code",
   "execution_count": 6,
   "metadata": {
    "collapsed": false
   },
   "outputs": [
    {
     "name": "stdout",
     "output_type": "stream",
     "text": [
      "---\n",
      "1034228_START 2020-03-20 09:30:20.489364\n",
      "1034228_1 concatenate all points in BIN\n",
      "---> # of points in all floors in BIN (# rows): (442, 3)\n",
      "1034228_2 make vector for all points in BIN\n",
      "1034228_3 write vector df to CSV\n",
      "1034228_END 2020-03-20 09:30:20.489364\n",
      "---\n",
      "---\n",
      "1034235_START 2020-03-20 09:30:20.489364\n",
      "1034235_1 concatenate all points in BIN\n",
      "---> # of points in all floors in BIN (# rows): (432, 3)\n",
      "1034235_2 make vector for all points in BIN\n",
      "1034235_3 write vector df to CSV\n",
      "1034235_END 2020-03-20 09:30:20.536717\n",
      "---\n",
      "---\n",
      "1034237_START 2020-03-20 09:30:20.536717\n",
      "1034237_1 concatenate all points in BIN\n",
      "---> # of points in all floors in BIN (# rows): (114, 3)\n",
      "1034237_2 make vector for all points in BIN\n",
      "1034237_3 write vector df to CSV\n",
      "1034237_END 2020-03-20 09:30:20.539706\n",
      "---\n",
      "---\n",
      "1034240_START 2020-03-20 09:30:20.539706\n",
      "1034240_1 concatenate all points in BIN\n",
      "---> # of points in all floors in BIN (# rows): (1100, 3)\n",
      "1034240_2 make vector for all points in BIN\n",
      "1034240_3 write vector df to CSV\n",
      "1034240_END 2020-03-20 09:30:20.570691\n",
      "---\n",
      "---\n",
      "1034242_START 2020-03-20 09:30:20.570691\n",
      "1034242_1 concatenate all points in BIN\n",
      "---> # of points in all floors in BIN (# rows): (279, 3)\n",
      "1034242_2 make vector for all points in BIN\n",
      "1034242_3 write vector df to CSV\n",
      "1034242_END 2020-03-20 09:30:20.613031\n",
      "---\n"
     ]
    }
   ],
   "source": [
    "# 200320 REDO LOOP TO RECREATE RAYS FOR MOVED Z POINTS \n",
    "NYCsourceDir = r'D:\\ituran\\NYCviews\\BINS_test'\n",
    "\n",
    "# Loop through all BINS in directory \n",
    "for file in os.listdir(NYCsourceDir): \n",
    "    print(\"---\")\n",
    "    print(file+\"_START\", datetime.now())\n",
    "    \n",
    "    print(file + \"_1 concatenate all points in BIN\")\n",
    "    # made dataframe with the points on all floors in the BIN\n",
    "    allflr_pt_df = concatenateAllPtsMoved(NYCsourceDir, file)\n",
    "\n",
    "    print(file + \"_2 make vector for all points in BIN\")\n",
    "    # apply vector rays to all points on all floors in the BIN\n",
    "    #allflr_vector_df = createGridRays(all_rays_df, allflr_pt_df)\n",
    "    \n",
    "    print(file + \"_3 write vector df to CSV\")\n",
    "    # write the vector array to a file\n",
    "    #writeGridRaystoCSV(allflr_vector_df, NYCsourceDir, file)\n",
    "\n",
    "    print(file+\"_END\", datetime.now())\n",
    "    print(\"---\")\n"
   ]
  },
  {
   "cell_type": "code",
   "execution_count": null,
   "metadata": {
    "collapsed": true
   },
   "outputs": [],
   "source": [
    "#NYCsourceDir = r\"C:\\Users\\ituran\\NYCstudy\\BINS\"\n",
    "#NYCsourceDir = r\"D:\\ituran\\NYCviews\\BINS_to_do\"\n",
    "\n",
    "# Loop through all BINS in directory \n",
    "for file in os.listdir(NYCsourceDir): \n",
    "    print(\"---\")\n",
    "    print(file+\"_START\", datetime.now())\n",
    "    \n",
    "    print(file + \"_1 concatenate all points in BIN\")\n",
    "    # made dataframe with the points on all floors in the BIN\n",
    "    allflr_pt_df = concatenateAllPts(NYCsourceDir, file)\n",
    "\n",
    "    print(file + \"_2 make vector for all points in BIN\")\n",
    "    # apply vector rays to all points on all floors in the BIN\n",
    "    allflr_vector_df = createGridRays(all_rays_df, allflr_pt_df)\n",
    "    \n",
    "    print(file + \"_3 write vector df to CSV\")\n",
    "    # write the vector array to a file\n",
    "    writeGridRaystoCSV(allflr_vector_df, NYCsourceDir, file)\n",
    "\n",
    "    print(file+\"_END\", datetime.now())\n",
    "    print(\"---\")"
   ]
  },
  {
   "cell_type": "markdown",
   "metadata": {
    "nbpresent": {
     "id": "f9e1574f-e93a-473e-a684-335271c9b6c1"
    }
   },
   "source": [
    "# Create batch file in each BIN folder"
   ]
  },
  {
   "cell_type": "code",
   "execution_count": null,
   "metadata": {
    "collapsed": false,
    "nbpresent": {
     "id": "d0a39452-1175-415c-be62-df74cfba67e2"
    }
   },
   "outputs": [],
   "source": [
    "#BINSourceDir = r'D:\\ituran\\NYCviews\\testFolder'\n",
    "#BINSourceDir = r'D:\\ituran\\NYCviews\\BINS_1'\n",
    "#BINSourceDir = r'D:\\ituran\\NYCviews\\BINS_2'\n",
    "BINSourceDir = r'D:\\ituran\\NYCviews\\BINS_3'\n",
    "\n",
    "source_batch = r\"D:\\ituran\\NYCviews\\SimFiles\\views_batch_master_D.bat\"\n",
    "\n",
    "# New input text\n",
    "input_scene_cd = r'D:\\ituran\\NYCviews\\RadScene'\n",
    "input_oct = r'D:\\ituran\\NYCviews\\RadScene\\NYCmodel_all_wSkyandViews_200124.oct'\n",
    "\n",
    "for file in os.listdir(BINSourceDir): \n",
    "    \n",
    "    # Read the source batch file template\n",
    "    with open(source_batch, \"r\") as f: \n",
    "        sourceFile = f.readlines()\n",
    "\n",
    "    for i in range(len(sourceFile)): \n",
    "        sourceFile[i] = sourceFile[i].replace('cd', 'cd ' + input_scene_cd)\n",
    "        sourceFile[i] = sourceFile[i].replace('set octreefile=', 'set octreefile=' + input_oct)\n",
    "        sourceFile[i] = sourceFile[i].replace('set rayFile=', 'set rayFile=' + BINSourceDir + '\\\\' + file + '\\\\' + file + '_rays.csv')\n",
    "        sourceFile[i] = sourceFile[i].replace('set resultsFile=', 'set resultsFile=' + BINSourceDir + '\\\\' + file + '\\\\' + file + '_out.dat')\n",
    "\n",
    "    newBat = BINSourceDir + '\\\\' + file + '\\\\' 'view_batch_d.bat'\n",
    "    with open(newBat, 'w') as out: \n",
    "        for i in sourceFile: \n",
    "            out.write(i)\n",
    "\n",
    "                                          "
   ]
  },
  {
   "cell_type": "markdown",
   "metadata": {
    "collapsed": true,
    "nbpresent": {
     "id": "5eaf811e-f1a6-48e9-8e80-7673404a27e7"
    }
   },
   "source": [
    "# Create loop for the batch simulations\n",
    "    "
   ]
  },
  {
   "cell_type": "code",
   "execution_count": null,
   "metadata": {
    "collapsed": true,
    "nbpresent": {
     "id": "ef27f572-48b2-4e7d-91ed-cbcc235c5b98"
    }
   },
   "outputs": [],
   "source": [
    "# filename of the batch file\n",
    "filepath = r\"D:\\ituran\\NYCviews\\BINS\"\n",
    "outputpath = r\"D:\\ituran\\NYCviews\\Log\"\n",
    "logName = 'NYCviews_logfile.txt'\n",
    "batchFile = \"view_batch_d.bat\" \n",
    "\n",
    "\n",
    "########################################################################\n",
    "######## FUNCTIONS ########\n",
    "########################################################################\n",
    "\n",
    "# Get a list of the immediate subdirectories in a folder\n",
    "def get_immediate_subdirs(a_dir):\n",
    "    return [name for name in os.listdir(a_dir)\n",
    "            if os.path.isdir(os.path.join(a_dir, name))]\n",
    "\n",
    "\n",
    "# takes a directory with a batch file\n",
    "# runs the batch file in a subprocess\n",
    "def runSim(dirName):\n",
    "    with open(outputpath +'\\\\' + logName, 'a+') as f:\n",
    "        f.write(\"Start: \"+ dirName+' at {:%Y-%m-%d %H:%M:%S}'.format(datetime.datetime.now())+'\\n')\n",
    "        \n",
    "    #child = Popen(batchFile, cwd = filepath + \"\\\\\" + dirName)\n",
    "    child = Popen(filepath + \"\\\\\" + dirName + '\\\\' + batchFile)\n",
    "    child.wait()\n",
    "    \n",
    "    with open(outputpath +'\\\\' + logName, 'a+') as f:\n",
    "        f.write('Stop: '+dirName+' at {:%Y-%m-%d %H:%M:%S}'.format(datetime.datetime.now())+'\\n')\n",
    "        f.write('Return code: '+str(child.returncode)+'\\n')\n",
    "    \n",
    " \n",
    "\n",
    "########################################################################\n",
    "######## CODE ########\n",
    "########################################################################\n",
    "\n",
    "if __name__ == \"__main__\":\n",
    "\n",
    "# create a list of directories, each containing a batch file\n",
    "# corresponding to a radiance simulation\n",
    "    all_Floors = get_immediate_subdirs(filepath)\n",
    "    print(all_Floors)\n",
    "    \n",
    "    #p = Pool()\n",
    "    #p.map(runSim, all_Floors)\n",
    "    \n",
    "\n",
    "# all_Floors is a list of simulation folders containing bat files\n",
    "# now we can create a pool of workers to run runSim on each \n",
    "\n",
    "# create a pool of workers to run each batch file\n",
    "# The processes arg is None, so we use the number of cores in the computer\n",
    "    \n",
    "\n"
   ]
  },
  {
   "cell_type": "markdown",
   "metadata": {
    "nbpresent": {
     "id": "b0df391b-0482-445b-84a5-226aa81b46de"
    }
   },
   "source": [
    "# OLD CODE BELOW!"
   ]
  },
  {
   "cell_type": "code",
   "execution_count": null,
   "metadata": {
    "collapsed": false,
    "nbpresent": {
     "id": "8e10542f-2715-49bc-94fe-aee7b73164b9"
    }
   },
   "outputs": [],
   "source": [
    "# Loop through all .pts files in the directory (glob does not keep order!)\n",
    "BINdir = r\"C:\\Users\\ituran\\NYCstudy\\testFolder\" \n",
    "BIN = str(1000007)\n",
    "\n",
    "print(str(BINdir + \"\\\\\" + BIN))"
   ]
  },
  {
   "cell_type": "code",
   "execution_count": null,
   "metadata": {
    "collapsed": false,
    "nbpresent": {
     "id": "8e1c3af1-0967-443f-99c3-b3332566a987"
    }
   },
   "outputs": [],
   "source": [
    "#Make list of all .pts file in directory\n",
    "os.chdir(BINdir + \"\\\\\" + BIN)\n",
    "all_lines = []\n",
    "for file in glob.glob(\"*.pts\"): \n",
    "    \n",
    "    # Read .pts file into list and convert to DF\n",
    "    with open(BINdir + \"\\\\\" + BIN + \"\\\\\" + file) as f: \n",
    "        lines = f.readlines()\n",
    "    lines = [x.strip() for x in lines]\n",
    "    for i in range(len(lines)): \n",
    "        oneRow = list(map(float, lines[i].split()))\n",
    "        del oneRow[-3:]\n",
    "        all_lines.append(oneRow)\n",
    "\n",
    "#Create dataframe with points for all floors in BIN\n",
    "BIN_pts_df = pd.DataFrame(all_lines)\n",
    "BIN_pts_df.columns = [\"x\", \"y\", \"z\"]\n",
    "\n",
    "#print(BIN_pts_df.head())\n",
    "print(BIN_pts_df.shape)\n",
    "\n",
    "#Check that all floors are represented\n",
    "print(BIN_pts_df[\"z\"].unique())"
   ]
  },
  {
   "cell_type": "code",
   "execution_count": null,
   "metadata": {
    "collapsed": false,
    "nbpresent": {
     "id": "3d199098-d014-4371-9f96-96cd4541ab9a"
    }
   },
   "outputs": [],
   "source": [
    "# Convert the rays array to dataframe\n",
    "ray_vec_df = pd.DataFrame(selectPts)\n",
    "\n",
    "# Duplicate each row of grid point df by size of vector df and add ray index column\n",
    "vectors_df = pd.DataFrame(np.repeat(BIN_pts_df.values, len(ray_vec_df.index), axis=0))\n",
    "vectors_df['ray_count'] = vectors_df.groupby(0).cumcount()\n",
    "vectors_df = vectors_df.reset_index(drop=True)\n",
    "\n",
    "all_vectors = pd.merge(vectors_df, ray_vec_df, left_on='ray_count', right_index=True)\n",
    "all_vectors = all_vectors.drop(['ray_count'], axis=1)\n",
    "grid_vectors = all_vectors.sort_index()\n",
    "\n",
    "# #BLOCK COMMENT SHORTCUT: cmd + / \n",
    "# #print(BIN_pts_df)\n",
    "# print(len(grid_vectors.index))\n",
    "# print(len(ray_vec_df.index))\n",
    "# print(len(vectors_df.index))\n",
    "# print(grid_vectors[0:10])\n",
    "# print(grid_vectors[300:310])\n",
    "# print(ray_vec_df[0:10])\n",
    "\n",
    "print(grid_vectors.shape)\n",
    "print(grid_vectors['0_x'].idxmax())\n",
    "print(grid_vectors['0_x'].idxmin())\n",
    "print(grid_vectors['1_x'].idxmax())\n",
    "print(grid_vectors['1_x'].idxmin())\n",
    "print(grid_vectors[609:615])"
   ]
  },
  {
   "cell_type": "code",
   "execution_count": null,
   "metadata": {
    "collapsed": false,
    "nbpresent": {
     "id": "c45715c9-81a3-437f-9867-4b6a819d4e47"
    }
   },
   "outputs": [],
   "source": [
    "# Plot test the grid vectors \n",
    "\n",
    "#Take a small portion of the vectors \n",
    "grid_slice = grid_vectors.truncate(after=600)\n",
    "\n",
    "fig=plt.figure(figsize=(18, 16), dpi= 80, facecolor='w', edgecolor='k')\n",
    "ax = fig.add_subplot(111, projection='3d')\n",
    "ax.quiver(grid_slice[\"0_x\"], grid_slice[\"1_x\"], grid_slice[\"2_x\"], grid_slice[\"0_y\"], grid_slice[\"1_y\"], grid_slice[\"2_y\"])\n",
    "\n",
    "#ax.set_zlim(-1.01, 1.01)\n",
    "\n",
    "ax.view_init(azim=0, elev=90)\n",
    "plt.show()"
   ]
  },
  {
   "cell_type": "code",
   "execution_count": null,
   "metadata": {
    "collapsed": false,
    "nbpresent": {
     "id": "81a153bb-e115-47c3-88ad-495dbbf9f139"
    }
   },
   "outputs": [],
   "source": [
    "# Export dataframe to CSV\n",
    "grid_vectors.to_csv(BINdir + \"\\\\\" + BIN + \"\\\\\" + BIN + \"_rays.csv\", \\\n",
    "                    sep=\" \", header=False, index=False)\n",
    "\n",
    "#### TAKES A WHILE TO SAVE! ####"
   ]
  },
  {
   "cell_type": "code",
   "execution_count": null,
   "metadata": {
    "collapsed": false,
    "nbpresent": {
     "id": "cb6fea1d-4a73-4dfb-a27c-b703f3b3cb50"
    }
   },
   "outputs": [],
   "source": [
    "# Test that CSV saved properly \n",
    "csvFile = BINdir + \"\\\\\" + BIN + \"\\\\\" + BIN + \"_rays.csv\"\n",
    "\n",
    "with open(csvFile, 'r') as f: \n",
    "    reader = csv.reader(f, delimiter = \" \")\n",
    "    data = list(reader)\n",
    "    data = np.array(data).astype(float)\n",
    "\n",
    "print(data.shape)\n",
    "print(data[:3])"
   ]
  },
  {
   "cell_type": "markdown",
   "metadata": {
    "nbpresent": {
     "id": "9a8b8b8f-5ad7-483e-9767-1ca2397ddac2"
    }
   },
   "source": [
    "# Write batch file for floor"
   ]
  },
  {
   "cell_type": "markdown",
   "metadata": {
    "nbpresent": {
     "id": "20a001f5-4e45-47b6-bd7c-1e0b79d770ad"
    }
   },
   "source": [
    "# -- OLD CODE --"
   ]
  },
  {
   "cell_type": "code",
   "execution_count": null,
   "metadata": {
    "collapsed": true,
    "nbpresent": {
     "id": "0e6a1aea-bd37-4e66-a8cb-15673d387414"
    }
   },
   "outputs": [],
   "source": [
    "# Set up batch file and copy other input files to directory \n",
    "\n",
    "partsPath = dirPath + ' - parts'\n",
    "masterBatch = simDir + '\\\\' + 'views_batch_master.bat'\n",
    "masterBatRev = dirPath + '\\\\' + 'views_batch.bat'\n",
    "\n",
    "# Copy input files into diretory \n",
    "otherFiles = ['sky.rad', 'geom.rad', 'geom.oct']\n",
    "for i in otherFiles: \n",
    "    shutil.copyfile(partsPath + '\\\\' + i, dirPath + '\\\\' + i)\n",
    "\n",
    "# Create the batch file\n",
    "with open(masterBatch, 'r') as f: \n",
    "    masterBatFile = f.readlines()\n",
    "    \n",
    "for i in range(len(masterBatFile)): \n",
    "    masterBatFile[i] = masterBatFile[i].replace('cd', 'cd ' + dirPath)\n",
    "    masterBatFile[i] = masterBatFile[i].replace('set skyfile=', 'set skyfile=' + dirPath + '\\\\' + 'sky.rad')\n",
    "    masterBatFile[i] = masterBatFile[i].replace('set geofile=', 'set geofile=' + dirPath + '\\\\' + 'geom.rad')\n",
    "    masterBatFile[i] = masterBatFile[i].replace('set octreefile=', 'set octreefile=' + dirPath + '\\\\' + 'geom.oct')\n",
    "    masterBatFile[i] = masterBatFile[i].replace('set rayFile=', 'set rayFile=' + dirPath + '\\\\' + name + '.txt')\n",
    "    masterBatFile[i] = masterBatFile[i].replace('set resultsFile=', 'set resultsFile=' + dirPath + '\\\\' + name + '.dat')\n",
    "\n",
    "with open(masterBatRev, 'w') as out: \n",
    "    for i in masterBatFile: \n",
    "        out.write(i)\n",
    "        "
   ]
  },
  {
   "cell_type": "markdown",
   "metadata": {
    "nbpresent": {
     "id": "d837b723-ba03-4e01-beab-973a1d0948b4"
    }
   },
   "source": [
    "# Run batch file "
   ]
  },
  {
   "cell_type": "raw",
   "metadata": {
    "nbpresent": {
     "id": "a0c1f4fb-e836-4ccb-bfb9-0ba298d20004"
    }
   },
   "source": [
    "# Run batch file with oconv and rtrace\n",
    "if run == True: \n",
    "    p = subprocess.Popen(masterBatRev)\n",
    "    p.wait()\n"
   ]
  },
  {
   "cell_type": "code",
   "execution_count": null,
   "metadata": {
    "collapsed": true,
    "nbpresent": {
     "id": "c3380e95-e206-4de6-9f16-5e230a10e675"
    }
   },
   "outputs": [],
   "source": []
  }
 ],
 "metadata": {
  "kernelspec": {
   "display_name": "Python [NAS_ituran]",
   "language": "python",
   "name": "Python [NAS_ituran]"
  },
  "language_info": {
   "codemirror_mode": {
    "name": "ipython",
    "version": 3
   },
   "file_extension": ".py",
   "mimetype": "text/x-python",
   "name": "python",
   "nbconvert_exporter": "python",
   "pygments_lexer": "ipython3",
   "version": "3.5.4"
  },
  "nbpresent": {
   "slides": {
    "1962cd77-6979-496c-8ea4-1ac119716f5d": {
     "id": "1962cd77-6979-496c-8ea4-1ac119716f5d",
     "prev": "2b74f298-eed6-414f-8284-7cb9080a7aa5",
     "regions": {
      "bc8b0e11-778d-4f52-975d-aa2fbd02501b": {
       "attrs": {
        "height": 0.8,
        "width": 0.8,
        "x": 0.1,
        "y": 0.1
       },
       "content": {
        "cell": "d63508af-53f9-45de-a3bc-0cff5a0ea229",
        "part": "whole"
       },
       "id": "bc8b0e11-778d-4f52-975d-aa2fbd02501b"
      }
     }
    },
    "20741a08-7f99-4b48-bbbe-909a8db9f4f4": {
     "id": "20741a08-7f99-4b48-bbbe-909a8db9f4f4",
     "prev": "1962cd77-6979-496c-8ea4-1ac119716f5d",
     "regions": {
      "7428f2b2-2e3c-40b7-8921-246376a6c836": {
       "attrs": {
        "height": 0.8,
        "width": 0.8,
        "x": 0.1,
        "y": 0.1
       },
       "content": {
        "cell": "57c295d4-c722-45f4-adb5-0e7c063fa24b",
        "part": "whole"
       },
       "id": "7428f2b2-2e3c-40b7-8921-246376a6c836"
      }
     }
    },
    "2b6726e6-9757-4905-b8b3-31044f19e716": {
     "id": "2b6726e6-9757-4905-b8b3-31044f19e716",
     "prev": "8fe78f61-fbdd-46a7-bbc1-98aacdcda04f",
     "regions": {
      "8186f0d9-3fce-4790-a2ae-be8aae09bf8e": {
       "attrs": {
        "height": 0.8,
        "width": 0.8,
        "x": 0.1,
        "y": 0.1
       },
       "content": {
        "cell": "3d199098-d014-4371-9f96-96cd4541ab9a",
        "part": "whole"
       },
       "id": "8186f0d9-3fce-4790-a2ae-be8aae09bf8e"
      }
     }
    },
    "2b74f298-eed6-414f-8284-7cb9080a7aa5": {
     "id": "2b74f298-eed6-414f-8284-7cb9080a7aa5",
     "prev": "99e8c4c9-9baa-4100-81db-266ca7094d81",
     "regions": {
      "d2e90582-1be7-4871-97c6-1c2a40817af3": {
       "attrs": {
        "height": 0.8,
        "width": 0.8,
        "x": 0.1,
        "y": 0.1
       },
       "content": {
        "cell": "fc45ce34-a57f-4c92-b97d-05056298ede5",
        "part": "whole"
       },
       "id": "d2e90582-1be7-4871-97c6-1c2a40817af3"
      }
     }
    },
    "2c6539cd-ab76-41fe-ae3e-604a9d76936b": {
     "id": "2c6539cd-ab76-41fe-ae3e-604a9d76936b",
     "prev": "c2098c13-4e4f-4052-8dd8-54760a399e0a",
     "regions": {
      "39d5bcbb-143e-4a86-b713-b860aec61c86": {
       "attrs": {
        "height": 0.8,
        "width": 0.8,
        "x": 0.1,
        "y": 0.1
       },
       "content": {
        "cell": "a0c1f4fb-e836-4ccb-bfb9-0ba298d20004",
        "part": "whole"
       },
       "id": "39d5bcbb-143e-4a86-b713-b860aec61c86"
      }
     }
    },
    "2ea2a592-7c1e-4604-86c8-2e4515582e9f": {
     "id": "2ea2a592-7c1e-4604-86c8-2e4515582e9f",
     "prev": "437381b2-f4fc-4aae-8ad2-01a88dca736d",
     "regions": {
      "6c5ff54c-8b20-4ddb-98ed-9ff691fae8b3": {
       "attrs": {
        "height": 0.8,
        "width": 0.8,
        "x": 0.1,
        "y": 0.1
       },
       "content": {
        "cell": "f9e1574f-e93a-473e-a684-335271c9b6c1",
        "part": "whole"
       },
       "id": "6c5ff54c-8b20-4ddb-98ed-9ff691fae8b3"
      }
     }
    },
    "32f67c3e-e17e-4f0f-bc30-fb8f237bdb30": {
     "id": "32f67c3e-e17e-4f0f-bc30-fb8f237bdb30",
     "prev": "9b1a8a4d-e3b9-4e9e-81d1-645da1ba6e25",
     "regions": {
      "93ee7f0e-4794-458b-b5c6-e0fef59ab0da": {
       "attrs": {
        "height": 0.8,
        "width": 0.8,
        "x": 0.1,
        "y": 0.1
       },
       "content": {
        "cell": "5eaf811e-f1a6-48e9-8e80-7673404a27e7",
        "part": "whole"
       },
       "id": "93ee7f0e-4794-458b-b5c6-e0fef59ab0da"
      }
     }
    },
    "33653bc2-34ee-4437-baa3-441c2c47536c": {
     "id": "33653bc2-34ee-4437-baa3-441c2c47536c",
     "prev": "a0047ffe-80e9-44f7-a3e9-a4bfe8165373",
     "regions": {
      "905b39e6-cc9e-4f33-9314-aa0352586fe6": {
       "attrs": {
        "height": 0.8,
        "width": 0.8,
        "x": 0.1,
        "y": 0.1
       },
       "content": {
        "cell": "b0df391b-0482-445b-84a5-226aa81b46de",
        "part": "whole"
       },
       "id": "905b39e6-cc9e-4f33-9314-aa0352586fe6"
      }
     }
    },
    "3458e62d-d73a-48a3-b21c-b46fb8ccc94c": {
     "id": "3458e62d-d73a-48a3-b21c-b46fb8ccc94c",
     "prev": "dba3b042-cb7f-4868-9f8e-50bf7d1c00d2",
     "regions": {
      "ca15c9c4-fec0-4b8b-a465-9016e7ecd272": {
       "attrs": {
        "height": 0.8,
        "width": 0.8,
        "x": 0.1,
        "y": 0.1
       },
       "content": {
        "cell": "cb6fea1d-4a73-4dfb-a27c-b703f3b3cb50",
        "part": "whole"
       },
       "id": "ca15c9c4-fec0-4b8b-a465-9016e7ecd272"
      }
     }
    },
    "437381b2-f4fc-4aae-8ad2-01a88dca736d": {
     "id": "437381b2-f4fc-4aae-8ad2-01a88dca736d",
     "prev": "d6188619-7b96-4851-89b0-1f32cccbf424",
     "regions": {
      "e833faf3-3140-448d-bc73-1135aac76d83": {
       "attrs": {
        "height": 0.8,
        "width": 0.8,
        "x": 0.1,
        "y": 0.1
       },
       "content": {
        "cell": "46c4951a-39eb-46db-b3dd-d9623da6a60f",
        "part": "whole"
       },
       "id": "e833faf3-3140-448d-bc73-1135aac76d83"
      }
     }
    },
    "49c58bb3-f318-4432-8a72-479903d9a0a6": {
     "id": "49c58bb3-f318-4432-8a72-479903d9a0a6",
     "prev": "81d80473-3499-437d-8bc7-4e9bd0ce8423",
     "regions": {
      "ae8cd31b-2ea0-4408-acbc-77dc8518c820": {
       "attrs": {
        "height": 0.8,
        "width": 0.8,
        "x": 0.1,
        "y": 0.1
       },
       "content": {
        "cell": "0e6a1aea-bd37-4e66-a8cb-15673d387414",
        "part": "whole"
       },
       "id": "ae8cd31b-2ea0-4408-acbc-77dc8518c820"
      }
     }
    },
    "757a157d-0a53-41c7-b8ce-ca5f559d7699": {
     "id": "757a157d-0a53-41c7-b8ce-ca5f559d7699",
     "prev": "33653bc2-34ee-4437-baa3-441c2c47536c",
     "regions": {
      "5bcde581-d0b2-418e-b4fd-505285f478ab": {
       "attrs": {
        "height": 0.8,
        "width": 0.8,
        "x": 0.1,
        "y": 0.1
       },
       "content": {
        "cell": "8e10542f-2715-49bc-94fe-aee7b73164b9",
        "part": "whole"
       },
       "id": "5bcde581-d0b2-418e-b4fd-505285f478ab"
      }
     }
    },
    "7ecfc0e5-caf6-4d82-8e67-4794d5aed7dd": {
     "id": "7ecfc0e5-caf6-4d82-8e67-4794d5aed7dd",
     "prev": null,
     "regions": {
      "8e7630da-5876-404d-b860-04257ff2f48c": {
       "attrs": {
        "height": 0.8,
        "width": 0.8,
        "x": 0.1,
        "y": 0.1
       },
       "content": {
        "cell": "4a218089-1eec-48d6-ab45-7907254ebafd",
        "part": "whole"
       },
       "id": "8e7630da-5876-404d-b860-04257ff2f48c"
      }
     }
    },
    "81d80473-3499-437d-8bc7-4e9bd0ce8423": {
     "id": "81d80473-3499-437d-8bc7-4e9bd0ce8423",
     "prev": "ec560944-35c0-4d65-9824-3fc6eea72473",
     "regions": {
      "85d275d5-89ce-45f3-830a-73bb66ad982f": {
       "attrs": {
        "height": 0.8,
        "width": 0.8,
        "x": 0.1,
        "y": 0.1
       },
       "content": {
        "cell": "20a001f5-4e45-47b6-bd7c-1e0b79d770ad",
        "part": "whole"
       },
       "id": "85d275d5-89ce-45f3-830a-73bb66ad982f"
      }
     }
    },
    "8fe78f61-fbdd-46a7-bbc1-98aacdcda04f": {
     "id": "8fe78f61-fbdd-46a7-bbc1-98aacdcda04f",
     "prev": "757a157d-0a53-41c7-b8ce-ca5f559d7699",
     "regions": {
      "3ada583e-2926-4bc0-806e-d60fd0c0650e": {
       "attrs": {
        "height": 0.8,
        "width": 0.8,
        "x": 0.1,
        "y": 0.1
       },
       "content": {
        "cell": "8e1c3af1-0967-443f-99c3-b3332566a987",
        "part": "whole"
       },
       "id": "3ada583e-2926-4bc0-806e-d60fd0c0650e"
      }
     }
    },
    "902002f7-c8ff-4138-a93d-48c0d2cee7b8": {
     "id": "902002f7-c8ff-4138-a93d-48c0d2cee7b8",
     "prev": "2c6539cd-ab76-41fe-ae3e-604a9d76936b",
     "regions": {
      "fd9d47ab-f13f-4802-b601-05c315d00d25": {
       "attrs": {
        "height": 0.8,
        "width": 0.8,
        "x": 0.1,
        "y": 0.1
       },
       "content": {
        "cell": "c3380e95-e206-4de6-9f16-5e230a10e675",
        "part": "whole"
       },
       "id": "fd9d47ab-f13f-4802-b601-05c315d00d25"
      }
     }
    },
    "99e8c4c9-9baa-4100-81db-266ca7094d81": {
     "id": "99e8c4c9-9baa-4100-81db-266ca7094d81",
     "prev": "7ecfc0e5-caf6-4d82-8e67-4794d5aed7dd",
     "regions": {
      "09ae8ae1-64fd-4c0d-a43d-554591b70894": {
       "attrs": {
        "height": 0.8,
        "width": 0.8,
        "x": 0.1,
        "y": 0.1
       },
       "content": {
        "cell": "0a08a366-edad-428e-91c3-f36b01fa370d",
        "part": "whole"
       },
       "id": "09ae8ae1-64fd-4c0d-a43d-554591b70894"
      }
     }
    },
    "9b1a8a4d-e3b9-4e9e-81d1-645da1ba6e25": {
     "id": "9b1a8a4d-e3b9-4e9e-81d1-645da1ba6e25",
     "prev": "2ea2a592-7c1e-4604-86c8-2e4515582e9f",
     "regions": {
      "817e554d-81a3-4a8a-a930-67f68425ca35": {
       "attrs": {
        "height": 0.8,
        "width": 0.8,
        "x": 0.1,
        "y": 0.1
       },
       "content": {
        "cell": "d0a39452-1175-415c-be62-df74cfba67e2",
        "part": "whole"
       },
       "id": "817e554d-81a3-4a8a-a930-67f68425ca35"
      }
     }
    },
    "a0047ffe-80e9-44f7-a3e9-a4bfe8165373": {
     "id": "a0047ffe-80e9-44f7-a3e9-a4bfe8165373",
     "prev": "32f67c3e-e17e-4f0f-bc30-fb8f237bdb30",
     "regions": {
      "3ddc357d-ff88-414e-90b0-e49859e71d5c": {
       "attrs": {
        "height": 0.8,
        "width": 0.8,
        "x": 0.1,
        "y": 0.1
       },
       "content": {
        "cell": "ef27f572-48b2-4e7d-91ed-cbcc235c5b98",
        "part": "whole"
       },
       "id": "3ddc357d-ff88-414e-90b0-e49859e71d5c"
      }
     }
    },
    "a3b4601d-4a95-4dc4-a043-3eb0185b8bab": {
     "id": "a3b4601d-4a95-4dc4-a043-3eb0185b8bab",
     "prev": "f69eea93-fae3-4e4a-a0de-f31be9d715b2",
     "regions": {
      "cc3f5607-8eb7-475b-8c91-e3e6d87752d5": {
       "attrs": {
        "height": 0.8,
        "width": 0.8,
        "x": 0.1,
        "y": 0.1
       },
       "content": {
        "cell": "e05297e5-ca74-4321-aeae-5bea1c6c895e",
        "part": "whole"
       },
       "id": "cc3f5607-8eb7-475b-8c91-e3e6d87752d5"
      }
     }
    },
    "b25f109c-1db8-43db-abfa-7a655c4e7f15": {
     "id": "b25f109c-1db8-43db-abfa-7a655c4e7f15",
     "prev": "2b6726e6-9757-4905-b8b3-31044f19e716",
     "regions": {
      "970f5825-3f0c-4c6e-b778-7ed2006b78f3": {
       "attrs": {
        "height": 0.8,
        "width": 0.8,
        "x": 0.1,
        "y": 0.1
       },
       "content": {
        "cell": "c45715c9-81a3-437f-9867-4b6a819d4e47",
        "part": "whole"
       },
       "id": "970f5825-3f0c-4c6e-b778-7ed2006b78f3"
      }
     }
    },
    "b3ee3834-ca09-4dc2-b9ea-ec2cfed961d6": {
     "id": "b3ee3834-ca09-4dc2-b9ea-ec2cfed961d6",
     "prev": "cae66401-31e8-4cc3-8dd7-352ddd033894",
     "regions": {
      "df2f1664-a367-4413-afd9-dabb20cefe8f": {
       "attrs": {
        "height": 0.8,
        "width": 0.8,
        "x": 0.1,
        "y": 0.1
       },
       "content": {
        "cell": "f88bfaf5-946e-454b-bb08-d7f67a97a710",
        "part": "whole"
       },
       "id": "df2f1664-a367-4413-afd9-dabb20cefe8f"
      }
     }
    },
    "c2098c13-4e4f-4052-8dd8-54760a399e0a": {
     "id": "c2098c13-4e4f-4052-8dd8-54760a399e0a",
     "prev": "49c58bb3-f318-4432-8a72-479903d9a0a6",
     "regions": {
      "76b28a68-da3b-4c44-bbe7-698638629e69": {
       "attrs": {
        "height": 0.8,
        "width": 0.8,
        "x": 0.1,
        "y": 0.1
       },
       "content": {
        "cell": "d837b723-ba03-4e01-beab-973a1d0948b4",
        "part": "whole"
       },
       "id": "76b28a68-da3b-4c44-bbe7-698638629e69"
      }
     }
    },
    "cae66401-31e8-4cc3-8dd7-352ddd033894": {
     "id": "cae66401-31e8-4cc3-8dd7-352ddd033894",
     "prev": "20741a08-7f99-4b48-bbbe-909a8db9f4f4",
     "regions": {
      "4ceb5625-7de1-4b5b-9003-a6994dc8e238": {
       "attrs": {
        "height": 0.8,
        "width": 0.8,
        "x": 0.1,
        "y": 0.1
       },
       "content": {
        "cell": "ae1648a0-9821-4f77-b79f-8318a3786e5d",
        "part": "whole"
       },
       "id": "4ceb5625-7de1-4b5b-9003-a6994dc8e238"
      }
     }
    },
    "d6188619-7b96-4851-89b0-1f32cccbf424": {
     "id": "d6188619-7b96-4851-89b0-1f32cccbf424",
     "prev": "a3b4601d-4a95-4dc4-a043-3eb0185b8bab",
     "regions": {
      "bdb0c274-10c0-4139-9b1f-b53ccb49be4b": {
       "attrs": {
        "height": 0.8,
        "width": 0.8,
        "x": 0.1,
        "y": 0.1
       },
       "content": {
        "cell": "92ca8a8c-edfe-442c-aa34-ec1834a96628",
        "part": "whole"
       },
       "id": "bdb0c274-10c0-4139-9b1f-b53ccb49be4b"
      }
     }
    },
    "d947ba84-0534-455a-ab27-8ef9e202fb9f": {
     "id": "d947ba84-0534-455a-ab27-8ef9e202fb9f",
     "prev": "b3ee3834-ca09-4dc2-b9ea-ec2cfed961d6",
     "regions": {
      "e3c0e792-a654-4571-b390-a44cbc261a2a": {
       "attrs": {
        "height": 0.8,
        "width": 0.8,
        "x": 0.1,
        "y": 0.1
       },
       "content": {
        "cell": "0e52c138-0983-4db9-9e24-3667b9ec02ef",
        "part": "whole"
       },
       "id": "e3c0e792-a654-4571-b390-a44cbc261a2a"
      }
     }
    },
    "dba3b042-cb7f-4868-9f8e-50bf7d1c00d2": {
     "id": "dba3b042-cb7f-4868-9f8e-50bf7d1c00d2",
     "prev": "b25f109c-1db8-43db-abfa-7a655c4e7f15",
     "regions": {
      "c4d665ba-6c35-4f57-a7f5-2dff0559a92d": {
       "attrs": {
        "height": 0.8,
        "width": 0.8,
        "x": 0.1,
        "y": 0.1
       },
       "content": {
        "cell": "81a153bb-e115-47c3-88ad-495dbbf9f139",
        "part": "whole"
       },
       "id": "c4d665ba-6c35-4f57-a7f5-2dff0559a92d"
      }
     }
    },
    "ec560944-35c0-4d65-9824-3fc6eea72473": {
     "id": "ec560944-35c0-4d65-9824-3fc6eea72473",
     "prev": "3458e62d-d73a-48a3-b21c-b46fb8ccc94c",
     "regions": {
      "c509bfc8-b9fd-4801-a147-738bd6b11de0": {
       "attrs": {
        "height": 0.8,
        "width": 0.8,
        "x": 0.1,
        "y": 0.1
       },
       "content": {
        "cell": "9a8b8b8f-5ad7-483e-9767-1ca2397ddac2",
        "part": "whole"
       },
       "id": "c509bfc8-b9fd-4801-a147-738bd6b11de0"
      }
     }
    },
    "f69eea93-fae3-4e4a-a0de-f31be9d715b2": {
     "id": "f69eea93-fae3-4e4a-a0de-f31be9d715b2",
     "prev": "d947ba84-0534-455a-ab27-8ef9e202fb9f",
     "regions": {
      "e78f3ab6-bcc8-481e-a012-dbb4d8f3ff04": {
       "attrs": {
        "height": 0.8,
        "width": 0.8,
        "x": 0.1,
        "y": 0.1
       },
       "content": {
        "cell": "660d1556-df85-48b7-98e2-e55c248cbd91",
        "part": "whole"
       },
       "id": "e78f3ab6-bcc8-481e-a012-dbb4d8f3ff04"
      }
     }
    }
   },
   "themes": {}
  }
 },
 "nbformat": 4,
 "nbformat_minor": 2
}
