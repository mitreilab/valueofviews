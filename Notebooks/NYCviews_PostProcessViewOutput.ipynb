{
 "cells": [
  {
   "cell_type": "markdown",
   "metadata": {},
   "source": [
    "# Old code copied from GH script (Y:\\ituran\\Behnisch\\Philly_Views\\ExternalViewAnalysis_Philly_190820.gh)"
   ]
  },
  {
   "cell_type": "code",
   "execution_count": null,
   "metadata": {
    "collapsed": true
   },
   "outputs": [],
   "source": [
    "# INPUTS: \n",
    "# dirPath = path where all is saved\n",
    "# name = name of simulation test (names all files)\n",
    "# viewType = the ray projection type\n",
    "# vects = the ray vectors \n",
    "# pts = tree with points in grid\n",
    "# exteriorMaterials = the materials assigned in DIVA that are considered outside materials\n",
    "\n",
    "\n",
    "##########################################\n",
    "# Calculate number of objects, materials, and distances\n",
    "##########################################\n",
    "# .dat output data includes origin xyz, material, distance, destination surface name \n",
    "\n",
    "# Read in the list of exterior materials\n",
    "# Clear empty lines at end of the list, turn into dictionary \n",
    "materialList = list(filter(None, exteriorMaterials))\n",
    "\n",
    "# Read the results .dat file, spliting by tab delimiter\n",
    "resultsAll = []\n",
    "with open(dirPath + '\\\\' + name + '.dat', 'r') as f: \n",
    "    for l in f: \n",
    "        resultsAll.append(l.strip().split('\\t'))\n",
    "\n",
    "# Convert numbers from string to float \n",
    "for i in resultsAll: \n",
    "    i[0] = float(i[0])\n",
    "    i[1] = float(i[1])\n",
    "    i[2] = float(i[2])\n",
    "    i[4] = float(i[4])\n",
    "\n",
    "# Get the list of unique origin x,y,z from resultsAll\n",
    "resultsOrigin = [item[0:3] for item in resultsAll]\n",
    "resultsOrigin.sort()\n",
    "originsUnique = list(k for k,_ in itertools.groupby(resultsOrigin))\n",
    "\n",
    "# Get list of all materials hit from resultsAll\n",
    "resultsMat = [item[3] for item in resultsAll]\n",
    "resultsMat.sort()\n",
    "materialsAll = list(k for k,_ in itertools.groupby(resultsMat))\n",
    "\n",
    "# Make initial datatree\n",
    "resultsTree = DataTree[System.Object]()\n",
    "\n",
    "# Read the results file\n",
    "#keys = ['point', 'totalRays', 'totalMaterials', 'totalObjects', 'distanceRange']\n",
    "resultsDict = []\n",
    "\n",
    "for i in range(len(originsUnique)): \n",
    "    ptResults = []\n",
    "    ptObjects = set([])    \n",
    "    totalRayCount = 0\n",
    "    \n",
    "    #extDistAll = []\n",
    "    matCountDict = {x:0 for x in materialList}\n",
    "    matCountDict_allMat = {x:0 for x in materialsAll}\n",
    "    \n",
    "    for j in resultsAll:\n",
    "        # Check if line is for the unique point\n",
    "        if j[0:3] == originsUnique[i]:\n",
    "            totalRayCount += 1\n",
    "            \n",
    "            # Count rays to all materials that are present in the scene\n",
    "            matCountDict_allMat[j[3]] += 1\n",
    "            \n",
    "            \"\"\"\n",
    "            # Check if ray is in external materials list; if so, add to count\n",
    "            if j[3] in matCountDict.keys(): \n",
    "                matCountDict[j[3]] += 1 \n",
    "                ptObjects.add(j[5])\n",
    "                \n",
    "                \n",
    "                # Check min/max distance\n",
    "                if j[3] != 'sky_mat':\n",
    "                    extDistAll.append(j[4])\n",
    "            else: \n",
    "                continue\n",
    "            \"\"\"\n",
    "            \n",
    "        else: \n",
    "            continue \n",
    "    \n",
    "    print(originsUnique[i])\n",
    "    #print(matCountDict)\n",
    "    print(matCountDict_allMat)\n",
    "    \n",
    "    # Get total number of UNIQUE objects\n",
    "    #sumExtObjs = len(ptObjects)\n",
    "    \n",
    "    \"\"\"\n",
    "    # Get min and max exterior distance viewed from origin point (not including sky)\n",
    "    if len(extDistAll) > 0: \n",
    "        ptDistMax = max(x for x in extDistAll)\n",
    "        ptDistMin = min(x for x in extDistAll)\n",
    "        viwDistRange = ptDistMax-ptDistMin\n",
    "        #viwDistRange = sum(extDistAll)/float(len(extDistAll))\n",
    "    else: \n",
    "        viwDistRange = 0\n",
    "    \n",
    "    print(viwDistRange)\n",
    "    \"\"\"\n",
    "    \n",
    "    # Create a new branch in the tree for the point\n",
    "    path = GH_Path(i)\n",
    "    \n",
    "    # Add results to datatree for GH use\n",
    "    resultsTree.Add(rc.Geometry.Point3d(originsUnique[i][0],originsUnique[i][1], originsUnique[i][2]), path)\n",
    "    resultsTree.Add(totalRayCount, path)\n",
    "    #resultsTree.Add(sumExtObjs, path)\n",
    "    #resultsTree.Add(viwDistRange, path)\n",
    "\n",
    "    # Add each material ray count to tree\n",
    "    for key in materialsAll: \n",
    "        resultsTree.Add(matCountDict_allMat[key], path)\n",
    "        \n",
    "    \"\"\"\n",
    "    # Add each material ray count to tree\n",
    "    for key in materialList: \n",
    "        resultsTree.Add(matCountDict[key], path)\n",
    "    \"\"\"\n",
    "    \n",
    "# Make legend for the resultsTree\n",
    "resultsTreeLegend = DataTree[System.Object]()\n",
    "resultsTreeLegend.Add('origin point') \n",
    "resultsTreeLegend.Add('total ray count') \n",
    "#resultsTreeLegend.Add('total exterior objects') \n",
    "#resultsTreeLegend.Add('total exterior distance') \n",
    "\n",
    "for key in materialsAll: \n",
    "    resultsTreeLegend.Add(key) "
   ]
  },
  {
   "cell_type": "code",
   "execution_count": 1,
   "metadata": {
    "collapsed": true
   },
   "outputs": [],
   "source": [
    "import sys\n",
    "import os \n",
    "from subprocess import Popen\n",
    "import glob\n",
    "import fileinput\n",
    "import shutil \n",
    "import csv\n",
    "import math\n",
    "\n",
    "from pathlib import Path\n",
    "import numpy\n",
    "import pandas as pd"
   ]
  },
  {
   "cell_type": "markdown",
   "metadata": {},
   "source": [
    "# Read results file into dataframe"
   ]
  },
  {
   "cell_type": "code",
   "execution_count": 15,
   "metadata": {
    "collapsed": false
   },
   "outputs": [
    {
     "name": "stdout",
     "output_type": "stream",
     "text": [
      "          x         y        z                     mat          dist  \\\n",
      "0 -18604.39 -4605.049  66.8856  GenericInteriorWall_50  1.899185e+00   \n",
      "1 -18604.39 -4605.049  66.8856   Glazing_SinglePane_88  6.983244e+00   \n",
      "2 -18604.39 -4605.049  66.8856   Glazing_SinglePane_88  1.000000e+10   \n",
      "3 -18604.39 -4605.049  66.8856  GenericInteriorWall_50  2.662185e+00   \n",
      "4 -18604.39 -4605.049  66.8856       GenericCeiling_70  1.971831e+01   \n",
      "\n",
      "                 destination  \n",
      "0  GenericInteriorWall_50.46  \n",
      "1   Glazing_SinglePane_88.59  \n",
      "2   Glazing_SinglePane_88.58  \n",
      "3  GenericInteriorWall_50.47  \n",
      "4        GenericCeiling_70.1  \n",
      "(357155, 6)\n"
     ]
    }
   ],
   "source": [
    "csvfile = r'C:\\Users\\ituran\\NYCstudy\\testFolder\\1000007\\out_1000007_6.dat'\n",
    "\n",
    "\n",
    "# Read csv file in to df\n",
    "data = pd.read_csv(csvfile, sep=\"\\t\", header=None, index_col=False)\n",
    "data = data.drop(data.columns[-1], axis=1)\n",
    "data.columns = [\"x\", \"y\", \"z\", \"mat\", \"dist\", \"destination\"]\n",
    "\n",
    "#print(data.head())\n",
    "#print(data.shape)"
   ]
  },
  {
   "cell_type": "code",
   "execution_count": 20,
   "metadata": {
    "collapsed": false
   },
   "outputs": [
    {
     "name": "stdout",
     "output_type": "stream",
     "text": [
      "             x         y        z\n",
      "0    -18604.39 -4605.049  66.8856\n",
      "305  -18603.22 -4610.276  66.8856\n",
      "610  -18601.89 -4616.233  66.8856\n",
      "915  -18600.56 -4622.190  66.8856\n",
      "1220 -18599.22 -4628.147  66.8856\n",
      "(1171, 3)\n"
     ]
    }
   ],
   "source": [
    "# Create a df with only the unique origins \n",
    "dataOrigin = data.filter(['x', 'y', 'z'], axis=1)\n",
    "dataOrigin = dataOrigin.drop_duplicates()\n",
    "\n",
    "#print(dataOrigin.head())\n",
    "#print(dataOrigin.shape)\n",
    "\n",
    "#Check that all floors are represented\n",
    "print(\"z value of all floors:\")\n",
    "print(dataOrigin[\"z\"].unique())"
   ]
  },
  {
   "cell_type": "code",
   "execution_count": 21,
   "metadata": {
    "collapsed": false
   },
   "outputs": [
    {
     "name": "stdout",
     "output_type": "stream",
     "text": [
      "                        mat\n",
      "0    GenericInteriorWall_50\n",
      "1     Glazing_SinglePane_88\n",
      "4         GenericCeiling_70\n",
      "114         GenericFloor_20\n",
      "(4, 1)\n"
     ]
    }
   ],
   "source": [
    "# Create a df of all the material types that are hit\n",
    "dataMat = data.filter(['mat'], axis=1)\n",
    "dataMat = dataMat.drop_duplicates()\n",
    "\n",
    "#print(dataMat.head())\n",
    "#print(dataMat.shape)"
   ]
  },
  {
   "cell_type": "code",
   "execution_count": null,
   "metadata": {
    "collapsed": true
   },
   "outputs": [],
   "source": []
  }
 ],
 "metadata": {
  "anaconda-cloud": {},
  "kernelspec": {
   "display_name": "Python [NAS_ituran]",
   "language": "python",
   "name": "Python [NAS_ituran]"
  },
  "language_info": {
   "codemirror_mode": {
    "name": "ipython",
    "version": 3
   },
   "file_extension": ".py",
   "mimetype": "text/x-python",
   "name": "python",
   "nbconvert_exporter": "python",
   "pygments_lexer": "ipython3",
   "version": "3.5.4"
  }
 },
 "nbformat": 4,
 "nbformat_minor": 0
}
